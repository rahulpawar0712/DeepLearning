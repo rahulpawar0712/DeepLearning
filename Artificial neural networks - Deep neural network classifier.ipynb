{
 "cells": [
  {
   "cell_type": "code",
   "execution_count": 1,
   "metadata": {},
   "outputs": [
    {
     "name": "stderr",
     "output_type": "stream",
     "text": [
      "Using TensorFlow backend.\n"
     ]
    }
   ],
   "source": [
    "from keras.models import Sequential\n",
    "from keras.layers.core import Dense, Dropout, Activation\n",
    "from keras.optimizers import Adadelta,Adam,RMSprop\n",
    "from keras.utils import np_utils"
   ]
  },
  {
   "cell_type": "code",
   "execution_count": 5,
   "metadata": {},
   "outputs": [],
   "source": [
    "import numpy as np\n",
    "import pandas as pd\n",
    "import matplotlib.pyplot as plt\n",
    "from sklearn.datasets import load_digits\n",
    "from sklearn.model_selection import train_test_split\n",
    "from sklearn.preprocessing import StandardScaler\n",
    "from sklearn.metrics import accuracy_score,classification_report"
   ]
  },
  {
   "cell_type": "markdown",
   "metadata": {},
   "source": [
    "# Artificial neural networks - ANN\n",
    "\n",
    "Artificial neural networks (ANNs) model the relationship between a set of input signals\n",
    "and output signals using a model derived from a replica of the biological brain, which\n",
    "responds to stimuli from its sensory inputs. The human brain consists of about 90 billion\n",
    "neurons, with around 1 trillion connections between them; ANN methods try to model\n",
    "problems using interconnected artificial neurons (or nodes) to solve machine learning\n",
    "problems.\n",
    "\n",
    "\n",
    "## The parameters required for choosing for building neural networks are the following:\n",
    "\n",
    "### Activation functions:\n",
    "    Activation functions are the mechanisms by which an artificial neuron processes information and passes it throughout the network. The activation function takes a single number and performs a certain fixed mathematical functional mapping on it. There are many different types of activation functions. The most popular ones are the following:\n",
    "            Sigmoid\n",
    "            Tanh\n",
    "            Relu\n",
    "            Linear\n",
    "        Sigmoid function: Sigmoid has the mathematical form σ(x) = 1 / (1+e−x). It takes a realvalued number and squashes it into a range between 0 and 1. Sigmoid is a popular choice, which makes calculating derivatives easy and is easy to interpret.\n",
    "        Tanh function: Tanh squashes the real-valued number into the range [-1, 1]. The output is zero-centered. In practice, tanh non-linearity is always preferred to sigmoid non-linearity.Also, it can be proved that tanh is scaled sigmoid neuron tanh(x) = 2σ (2x) − 1.\n",
    "        Rectified Linear Unit (ReLU) function: ReLU has become very popular in the last few years. It computes the function f(x) = max (0, x). Activation is simply thresholds at zero.\n",
    "        Linear function: The linear activation function is used in linear regression problems, where it always provides a derivative as 1 due to the function used being f(x) = x.\n",
    "        Relu is now popularly being used in place of Sigmoid or Tanh due to its better convergence property.\n",
    "        \n",
    "#### Network architecture or topology: This represents the number of layers required and the number of neurons in each layer. More layers and neurons will create a highly non-linear decision boundary, whereas if we reduce the architecture, the model will be less flexible and more robust.\n",
    "\n",
    "#### Training optimization algorithm: The selection of an optimization algorithm plays a critical role as well, in order to converge quickly and accurately to the best optimal solutions, which we will be covering in detail in later sections of this chapter.\n",
    "\n",
    "#### Applications of Neural Networks: In recent years, neural networks (a branch of deep learning) has gained huge attention in terms of its application in artificial intelligence, in terms of speech, text, vision, and many other areas. We will ntroduce deep learning in later sections of this chapter. Some of the famous applications are the following:\n",
    "            - Images and videos: To identify an object in an image or to classify whether it is a dog or a cat\n",
    "            - Text processing (NLP): Deep-learning-based chatbot and so on\n",
    "            - Speech: Recognize speech\n",
    "            - Structured data processing: Building highly powerful models to obtain a non-linear decision boundary"
   ]
  },
  {
   "cell_type": "markdown",
   "metadata": {},
   "source": [
    "# Optimization of neural networks\n",
    "\n",
    "## Various techniques have been used for optimizing the weights of neural networks:\n",
    "\n",
    "* Stochastic gradient descent (SGD)\n",
    "* Momentum\n",
    "* Nesterov accelerated gradient (NAG)\n",
    "* Adaptive gradient (Adagrad)\n",
    "* Adadelta\n",
    "* RMSprop\n",
    "* Adaptive moment estimation (Adam)\n",
    "* Limited memory Broyden-Fletcher-Goldfarb-Shanno (L-BFGS)\n",
    "\n",
    "### In practice, Adam is a good default choice; we will be covering its working methodology in this section. If you cannot afford full batch updates, then try out L-BFGS:\n",
    "\n",
    "\n",
    "# ANN classifier applied on handwritten digitsusing scikit-learn\n",
    "\n",
    "An ANN classifier example has been illustrated with the handwritten digits example from the scikit-learn datasets, in which handwritten digits are created from 0 to 9 and their respective 64 features (8 x 8 matrix) of pixel intensities between 0 and 255, as any black and white (or grayscale) image can be represented. In the case of color images, RGB (red, green, and blue) channels will be used to represent all the colors:\n",
    "\n",
    "# Refer to  Artificial Neural Networks Classifier - Digit Classifier file"
   ]
  },
  {
   "cell_type": "markdown",
   "metadata": {},
   "source": [
    "# Introduction to deep learning\n",
    "\n",
    "* Deep learning is a class of machine learning algorithms which utilizes neural networks for building models to solve both supervised and unsupervised problems on structured and unstructured datasets such as images, videos, NLP, voice processing, and so on.\n",
    "\n",
    "## Deep neural network/deep architecture consists of multiple hidden layers of units between input and output layers. Each layer is fully connected with the subsequent layer. The output of each artificial neuron in a layer is an input to every artificial neuron in the next layer towards the output. With the more number of hidden layers are being added to the neural network, more complex decision boundaries are being created to classify different categories.\n",
    "\n",
    "\n",
    "### Thumb rules in designing deep neural networks: Though there is no hard and fast rule for designing neural networks, the following rules will provide some guidelines:\n",
    "    * All hidden layers should have the same number of neurons per layer\n",
    "    * Typically, two hidden layers are good enough to solve the majority of problems Using scaling/batch normalization (mean 0, variance 1) for all input variables after each layer improves convergence effectiveness \n",
    "    * Reduction in step size after each iteration improves convergence, in addition to the use of momentum and dropout.\n",
    "    \n",
    "\n",
    "## Deep learning software\n",
    "\n",
    "Deep learning software has evolved multi-fold in recent times. In this chapter, we are using Keras to develop a model, as Keras models are easy to understand and prototype new concepts for newbies. However, lots of other software also exists and is used by many practitioners across the world:\n",
    "\n",
    "- Theano: Python-based deep learning library developed by the University of Montreal\n",
    "- TensorFlow: Google's deep learning library runs on top of Python/C++\n",
    "- Keras / Lasagne: Lightweight wrapper which sits on top of Theano/TensorFlow and enables faster model prototyping\n",
    "- Torch: Lua-based deep learning library with wide support for machine learning algorithms\n",
    "- Caffe: deep learning library primarily used for processing pictures\n",
    "\n",
    "\n",
    "TensorFlow is recently picking up momentum among the deep learning community, as it is being backed up by Google and also has good visualization capabilities using TensorBoard:\n",
    "\n",
    "\n",
    "# Deep neural network classifier applied on handwritten digits using Keras\n",
    "\n",
    "We are using the same data as we trained the model on previously using scikit-learn in order to perform apple-to-apple comparison between scikit-learn and the deep learning software Keras. Hence, the data loading steps remain the same:"
   ]
  },
  {
   "cell_type": "code",
   "execution_count": 7,
   "metadata": {},
   "outputs": [
    {
     "name": "stdout",
     "output_type": "stream",
     "text": [
      "(1797, 64)\n",
      "(1797,)\n",
      "\n",
      "Printing first digit\n"
     ]
    },
    {
     "data": {
      "image/png": "[encoded data removed]",
      "text/plain": [
       "<Figure size 288x288 with 1 Axes>"
      ]
     },
     "metadata": {
      "needs_background": "light"
     },
     "output_type": "display_data"
    }
   ],
   "source": [
    "digits = load_digits()\n",
    "X = digits.data\n",
    "y = digits.target\n",
    "print (X.shape)\n",
    "print (y.shape)\n",
    "print (\"\\nPrinting first digit\")\n",
    "plt.matshow(digits.images[7])\n",
    "plt.show()"
   ]
  },
  {
   "cell_type": "markdown",
   "metadata": {},
   "source": [
    "We are performing the standardizing of data with the following code to demean the series,\n",
    "followed by standard deviation to put all the 64 dimensions in a similar scale. Though, in\n",
    "this case, it is not very stringent, as all the values lie between 0 and 255, but by doing so we\n",
    "reduce the computational requirement a little bit:"
   ]
  },
  {
   "cell_type": "code",
   "execution_count": 8,
   "metadata": {},
   "outputs": [],
   "source": [
    "x_vars_stdscle = StandardScaler().fit_transform(X)"
   ]
  },
  {
   "cell_type": "code",
   "execution_count": 9,
   "metadata": {},
   "outputs": [],
   "source": [
    "x_train,x_test,y_train,y_test =train_test_split(x_vars_stdscle,y,train_size = 0.7,random_state=42)"
   ]
  },
  {
   "cell_type": "markdown",
   "metadata": {},
   "source": [
    "Tuning the hyperparameters plays a crucial role in tuning a deep learning model (of course,\n",
    "this is applicable to any of the machine learning models too!). We have used nb_classes as\n",
    "10, due to the reason that the digits range from 0-9; batch_size as 128, which means for\n",
    "each batch, we utilize 128 observations to update the weights; and finally, we have used\n",
    "nb_epochs as 200, which means the number of epochs the model needs to be trained is 200\n",
    "(also, we can imagine that the model will be updated 200 times from start to end):"
   ]
  },
  {
   "cell_type": "code",
   "execution_count": 10,
   "metadata": {},
   "outputs": [],
   "source": [
    "# Defining hyper parameters\n",
    "np.random.seed(1337)\n",
    "nb_classes = 10   # output layer --- output class is 10 for figure range from 0 - 9\n",
    "batch_size = 128  # to Update the weight\n",
    "nb_epochs = 200   # Epochs to train the model"
   ]
  },
  {
   "cell_type": "markdown",
   "metadata": {},
   "source": [
    "The following code actually creates the n-dimensional vector for multiclass values based on\n",
    "the nb_classes value. Here, we will get the dimension as 10 for all train observations for\n",
    "training using the softmax classifier:"
   ]
  },
  {
   "cell_type": "code",
   "execution_count": 11,
   "metadata": {},
   "outputs": [],
   "source": [
    "Y_train = np_utils.to_categorical(y_train, nb_classes)"
   ]
  },
  {
   "cell_type": "markdown",
   "metadata": {},
   "source": [
    "The core model building code, which looks like Lego blocks, is shown as follows. Here we,\n",
    "initiate the model as sequential rather than parallel and so on:"
   ]
  },
  {
   "cell_type": "code",
   "execution_count": 12,
   "metadata": {},
   "outputs": [],
   "source": [
    "#Deep Layer Model building in Keras\n",
    "model = Sequential()"
   ]
  },
  {
   "cell_type": "markdown",
   "metadata": {},
   "source": [
    "In the first layer, we are using 100 neurons with input shape as 64 columns (as the number\n",
    "of columns in X is 64), followed by relu activation functions with dropout value as 0.5 (we\n",
    "have chosen dropout randomly; readers are encouraged to try different values and see how\n",
    "the results vary):"
   ]
  },
  {
   "cell_type": "code",
   "execution_count": 13,
   "metadata": {},
   "outputs": [],
   "source": [
    "model.add(Dense(100,input_shape= (64,)))\n",
    "model.add(Activation('relu'))\n",
    "model.add(Dropout(0.4))"
   ]
  },
  {
   "cell_type": "markdown",
   "metadata": {},
   "source": [
    "In the second layer, we are using 50 neurons (to compare the results obtained using the\n",
    "scikit-learn methodology, we have used a similar architecture):"
   ]
  },
  {
   "cell_type": "code",
   "execution_count": 14,
   "metadata": {},
   "outputs": [],
   "source": [
    "model.add(Dense(50))\n",
    "model.add(Activation('relu'))\n",
    "model.add(Dropout(0.4))"
   ]
  },
  {
   "cell_type": "markdown",
   "metadata": {},
   "source": [
    "In the output layer, the number of classes needs to be used with the softmax classifier:"
   ]
  },
  {
   "cell_type": "code",
   "execution_count": 15,
   "metadata": {},
   "outputs": [],
   "source": [
    "model.add(Dense(nb_classes))\n",
    "model.add(Activation('softmax'))"
   ]
  },
  {
   "cell_type": "markdown",
   "metadata": {},
   "source": [
    "#### Here, we are compiling with categorical_crossentropy, as the output is multiclass; whereas, if we want to use binary class, we need to use binary_crossentropy instead"
   ]
  },
  {
   "cell_type": "code",
   "execution_count": 16,
   "metadata": {},
   "outputs": [],
   "source": [
    "model.compile(loss='categorical_crossentropy', optimizer='adam')"
   ]
  },
  {
   "cell_type": "markdown",
   "metadata": {},
   "source": [
    "#### The model is being trained in the following step with all the given batch sizes and number of epochs"
   ]
  },
  {
   "cell_type": "code",
   "execution_count": 17,
   "metadata": {},
   "outputs": [
    {
     "name": "stderr",
     "output_type": "stream",
     "text": [
      "C:\\Users\\Admin\\Anaconda3\\lib\\site-packages\\ipykernel_launcher.py:2: UserWarning: The `nb_epoch` argument in `fit` has been renamed `epochs`.\n",
      "  \n"
     ]
    },
    {
     "name": "stdout",
     "output_type": "stream",
     "text": [
      "Epoch 1/200\n",
      "1257/1257 [==============================] - 2s 2ms/step - loss: 2.6872\n",
      "Epoch 2/200\n",
      "1257/1257 [==============================] - 0s 45us/step - loss: 2.1901\n",
      "Epoch 3/200\n",
      "1257/1257 [==============================] - 0s 51us/step - loss: 1.9172\n",
      "Epoch 4/200\n",
      "1257/1257 [==============================] - 0s 54us/step - loss: 1.6463\n",
      "Epoch 5/200\n",
      "1257/1257 [==============================] - 0s 48us/step - loss: 1.5039\n",
      "Epoch 6/200\n",
      "1257/1257 [==============================] - 0s 54us/step - loss: 1.3136\n",
      "Epoch 7/200\n",
      "1257/1257 [==============================] - 0s 48us/step - loss: 1.1406\n",
      "Epoch 8/200\n",
      "1257/1257 [==============================] - 0s 32us/step - loss: 0.9979\n",
      "Epoch 9/200\n",
      "1257/1257 [==============================] - 0s 35us/step - loss: 0.8758\n",
      "Epoch 10/200\n",
      "1257/1257 [==============================] - 0s 33us/step - loss: 0.8155\n",
      "Epoch 11/200\n",
      "1257/1257 [==============================] - 0s 38us/step - loss: 0.6939\n",
      "Epoch 12/200\n",
      "1257/1257 [==============================] - 0s 39us/step - loss: 0.6757\n",
      "Epoch 13/200\n",
      "1257/1257 [==============================] - 0s 35us/step - loss: 0.6346\n",
      "Epoch 14/200\n",
      "1257/1257 [==============================] - 0s 36us/step - loss: 0.5759\n",
      "Epoch 15/200\n",
      "1257/1257 [==============================] - 0s 35us/step - loss: 0.5289\n",
      "Epoch 16/200\n",
      "1257/1257 [==============================] - 0s 35us/step - loss: 0.5285\n",
      "Epoch 17/200\n",
      "1257/1257 [==============================] - 0s 35us/step - loss: 0.4896\n",
      "Epoch 18/200\n",
      "1257/1257 [==============================] - 0s 41us/step - loss: 0.4580\n",
      "Epoch 19/200\n",
      "1257/1257 [==============================] - 0s 38us/step - loss: 0.4450\n",
      "Epoch 20/200\n",
      "1257/1257 [==============================] - 0s 38us/step - loss: 0.4302\n",
      "Epoch 21/200\n",
      "1257/1257 [==============================] - 0s 38us/step - loss: 0.3933\n",
      "Epoch 22/200\n",
      "1257/1257 [==============================] - 0s 38us/step - loss: 0.3894\n",
      "Epoch 23/200\n",
      "1257/1257 [==============================] - 0s 39us/step - loss: 0.3621\n",
      "Epoch 24/200\n",
      "1257/1257 [==============================] - 0s 35us/step - loss: 0.3452\n",
      "Epoch 25/200\n",
      "1257/1257 [==============================] - 0s 32us/step - loss: 0.3212\n",
      "Epoch 26/200\n",
      "1257/1257 [==============================] - 0s 35us/step - loss: 0.3073\n",
      "Epoch 27/200\n",
      "1257/1257 [==============================] - 0s 41us/step - loss: 0.2876\n",
      "Epoch 28/200\n",
      "1257/1257 [==============================] - 0s 38us/step - loss: 0.2967\n",
      "Epoch 29/200\n",
      "1257/1257 [==============================] - 0s 39us/step - loss: 0.2857\n",
      "Epoch 30/200\n",
      "1257/1257 [==============================] - 0s 38us/step - loss: 0.2899\n",
      "Epoch 31/200\n",
      "1257/1257 [==============================] - 0s 31us/step - loss: 0.2494\n",
      "Epoch 32/200\n",
      "1257/1257 [==============================] - 0s 35us/step - loss: 0.2600\n",
      "Epoch 33/200\n",
      "1257/1257 [==============================] - 0s 35us/step - loss: 0.2549\n",
      "Epoch 34/200\n",
      "1257/1257 [==============================] - 0s 35us/step - loss: 0.2570\n",
      "Epoch 35/200\n",
      "1257/1257 [==============================] - 0s 185us/step - loss: 0.2350\n",
      "Epoch 36/200\n",
      "1257/1257 [==============================] - 0s 33us/step - loss: 0.2220\n",
      "Epoch 37/200\n",
      "1257/1257 [==============================] - 0s 35us/step - loss: 0.2395\n",
      "Epoch 38/200\n",
      "1257/1257 [==============================] - 0s 35us/step - loss: 0.2422\n",
      "Epoch 39/200\n",
      "1257/1257 [==============================] - 0s 35us/step - loss: 0.2060\n",
      "Epoch 40/200\n",
      "1257/1257 [==============================] - 0s 31us/step - loss: 0.1865\n",
      "Epoch 41/200\n",
      "1257/1257 [==============================] - 0s 35us/step - loss: 0.1931\n",
      "Epoch 42/200\n",
      "1257/1257 [==============================] - 0s 35us/step - loss: 0.2009\n",
      "Epoch 43/200\n",
      "1257/1257 [==============================] - 0s 35us/step - loss: 0.2117\n",
      "Epoch 44/200\n",
      "1257/1257 [==============================] - 0s 38us/step - loss: 0.1632\n",
      "Epoch 45/200\n",
      "1257/1257 [==============================] - 0s 35us/step - loss: 0.1662\n",
      "Epoch 46/200\n",
      "1257/1257 [==============================] - 0s 37us/step - loss: 0.1821\n",
      "Epoch 47/200\n",
      "1257/1257 [==============================] - 0s 35us/step - loss: 0.1831\n",
      "Epoch 48/200\n",
      "1257/1257 [==============================] - 0s 38us/step - loss: 0.1672\n",
      "Epoch 49/200\n",
      "1257/1257 [==============================] - 0s 30us/step - loss: 0.1721\n",
      "Epoch 50/200\n",
      "1257/1257 [==============================] - 0s 35us/step - loss: 0.1601\n",
      "Epoch 51/200\n",
      "1257/1257 [==============================] - 0s 35us/step - loss: 0.1495\n",
      "Epoch 52/200\n",
      "1257/1257 [==============================] - 0s 35us/step - loss: 0.1385\n",
      "Epoch 53/200\n",
      "1257/1257 [==============================] - 0s 42us/step - loss: 0.1384\n",
      "Epoch 54/200\n",
      "1257/1257 [==============================] - 0s 32us/step - loss: 0.1382\n",
      "Epoch 55/200\n",
      "1257/1257 [==============================] - 0s 34us/step - loss: 0.1406\n",
      "Epoch 56/200\n",
      "1257/1257 [==============================] - 0s 38us/step - loss: 0.1579\n",
      "Epoch 57/200\n",
      "1257/1257 [==============================] - 0s 38us/step - loss: 0.1315\n",
      "Epoch 58/200\n",
      "1257/1257 [==============================] - 0s 32us/step - loss: 0.1395\n",
      "Epoch 59/200\n",
      "1257/1257 [==============================] - 0s 31us/step - loss: 0.1312\n",
      "Epoch 60/200\n",
      "1257/1257 [==============================] - 0s 32us/step - loss: 0.1374\n",
      "Epoch 61/200\n",
      "1257/1257 [==============================] - 0s 32us/step - loss: 0.1372\n",
      "Epoch 62/200\n",
      "1257/1257 [==============================] - 0s 29us/step - loss: 0.1295\n",
      "Epoch 63/200\n",
      "1257/1257 [==============================] - 0s 32us/step - loss: 0.1264\n",
      "Epoch 64/200\n",
      "1257/1257 [==============================] - 0s 32us/step - loss: 0.1379\n",
      "Epoch 65/200\n",
      "1257/1257 [==============================] - 0s 30us/step - loss: 0.1225\n",
      "Epoch 66/200\n",
      "1257/1257 [==============================] - 0s 32us/step - loss: 0.1165\n",
      "Epoch 67/200\n",
      "1257/1257 [==============================] - 0s 32us/step - loss: 0.1121\n",
      "Epoch 68/200\n",
      "1257/1257 [==============================] - 0s 35us/step - loss: 0.1226\n",
      "Epoch 69/200\n",
      "1257/1257 [==============================] - 0s 35us/step - loss: 0.1268\n",
      "Epoch 70/200\n",
      "1257/1257 [==============================] - 0s 35us/step - loss: 0.1111\n",
      "Epoch 71/200\n",
      "1257/1257 [==============================] - 0s 35us/step - loss: 0.1031\n",
      "Epoch 72/200\n",
      "1257/1257 [==============================] - 0s 35us/step - loss: 0.1113\n",
      "Epoch 73/200\n",
      "1257/1257 [==============================] - 0s 37us/step - loss: 0.1056\n",
      "Epoch 74/200\n",
      "1257/1257 [==============================] - 0s 36us/step - loss: 0.1189\n",
      "Epoch 75/200\n",
      "1257/1257 [==============================] - 0s 38us/step - loss: 0.0942\n",
      "Epoch 76/200\n",
      "1257/1257 [==============================] - 0s 32us/step - loss: 0.1099\n",
      "Epoch 77/200\n",
      "1257/1257 [==============================] - 0s 35us/step - loss: 0.0940\n",
      "Epoch 78/200\n",
      "1257/1257 [==============================] - 0s 35us/step - loss: 0.1001\n",
      "Epoch 79/200\n",
      "1257/1257 [==============================] - 0s 35us/step - loss: 0.1154\n",
      "Epoch 80/200\n",
      "1257/1257 [==============================] - 0s 35us/step - loss: 0.0893\n",
      "Epoch 81/200\n",
      "1257/1257 [==============================] - 0s 32us/step - loss: 0.0893\n",
      "Epoch 82/200\n",
      "1257/1257 [==============================] - 0s 33us/step - loss: 0.0980\n",
      "Epoch 83/200\n",
      "1257/1257 [==============================] - 0s 29us/step - loss: 0.0970\n",
      "Epoch 84/200\n",
      "1257/1257 [==============================] - 0s 32us/step - loss: 0.0876\n",
      "Epoch 85/200\n",
      "1257/1257 [==============================] - 0s 32us/step - loss: 0.0985\n",
      "Epoch 86/200\n",
      "1257/1257 [==============================] - 0s 32us/step - loss: 0.0902\n",
      "Epoch 87/200\n",
      "1257/1257 [==============================] - 0s 32us/step - loss: 0.0754\n",
      "Epoch 88/200\n",
      "1257/1257 [==============================] - 0s 29us/step - loss: 0.0780\n",
      "Epoch 89/200\n",
      "1257/1257 [==============================] - 0s 31us/step - loss: 0.0636\n",
      "Epoch 90/200\n",
      "1257/1257 [==============================] - 0s 31us/step - loss: 0.0876\n",
      "Epoch 91/200\n",
      "1257/1257 [==============================] - 0s 41us/step - loss: 0.0923\n",
      "Epoch 92/200\n",
      "1257/1257 [==============================] - 0s 36us/step - loss: 0.0887\n",
      "Epoch 93/200\n",
      "1257/1257 [==============================] - 0s 38us/step - loss: 0.0780\n",
      "Epoch 94/200\n",
      "1257/1257 [==============================] - 0s 35us/step - loss: 0.0849\n",
      "Epoch 95/200\n",
      "1257/1257 [==============================] - 0s 35us/step - loss: 0.0842\n",
      "Epoch 96/200\n"
     ]
    },
    {
     "name": "stdout",
     "output_type": "stream",
     "text": [
      "1257/1257 [==============================] - 0s 35us/step - loss: 0.0632\n",
      "Epoch 97/200\n",
      "1257/1257 [==============================] - 0s 32us/step - loss: 0.0851\n",
      "Epoch 98/200\n",
      "1257/1257 [==============================] - 0s 52us/step - loss: 0.0868\n",
      "Epoch 99/200\n",
      "1257/1257 [==============================] - 0s 29us/step - loss: 0.0793\n",
      "Epoch 100/200\n",
      "1257/1257 [==============================] - 0s 30us/step - loss: 0.0790\n",
      "Epoch 101/200\n",
      "1257/1257 [==============================] - 0s 29us/step - loss: 0.0686\n",
      "Epoch 102/200\n",
      "1257/1257 [==============================] - 0s 33us/step - loss: 0.0703\n",
      "Epoch 103/200\n",
      "1257/1257 [==============================] - 0s 29us/step - loss: 0.0797\n",
      "Epoch 104/200\n",
      "1257/1257 [==============================] - 0s 29us/step - loss: 0.0847\n",
      "Epoch 105/200\n",
      "1257/1257 [==============================] - 0s 35us/step - loss: 0.0685\n",
      "Epoch 106/200\n",
      "1257/1257 [==============================] - 0s 29us/step - loss: 0.0847\n",
      "Epoch 107/200\n",
      "1257/1257 [==============================] - 0s 32us/step - loss: 0.0900\n",
      "Epoch 108/200\n",
      "1257/1257 [==============================] - 0s 29us/step - loss: 0.0708\n",
      "Epoch 109/200\n",
      "1257/1257 [==============================] - 0s 32us/step - loss: 0.0696\n",
      "Epoch 110/200\n",
      "1257/1257 [==============================] - 0s 28us/step - loss: 0.0681\n",
      "Epoch 111/200\n",
      "1257/1257 [==============================] - 0s 30us/step - loss: 0.0865\n",
      "Epoch 112/200\n",
      "1257/1257 [==============================] - 0s 37us/step - loss: 0.0575\n",
      "Epoch 113/200\n",
      "1257/1257 [==============================] - 0s 32us/step - loss: 0.0619\n",
      "Epoch 114/200\n",
      "1257/1257 [==============================] - 0s 29us/step - loss: 0.0760\n",
      "Epoch 115/200\n",
      "1257/1257 [==============================] - 0s 32us/step - loss: 0.0729\n",
      "Epoch 116/200\n",
      "1257/1257 [==============================] - 0s 29us/step - loss: 0.0446\n",
      "Epoch 117/200\n",
      "1257/1257 [==============================] - 0s 32us/step - loss: 0.0598\n",
      "Epoch 118/200\n",
      "1257/1257 [==============================] - 0s 35us/step - loss: 0.0585\n",
      "Epoch 119/200\n",
      "1257/1257 [==============================] - 0s 35us/step - loss: 0.0520\n",
      "Epoch 120/200\n",
      "1257/1257 [==============================] - 0s 30us/step - loss: 0.0581\n",
      "Epoch 121/200\n",
      "1257/1257 [==============================] - 0s 32us/step - loss: 0.0514\n",
      "Epoch 122/200\n",
      "1257/1257 [==============================] - 0s 29us/step - loss: 0.0649\n",
      "Epoch 123/200\n",
      "1257/1257 [==============================] - 0s 32us/step - loss: 0.0614\n",
      "Epoch 124/200\n",
      "1257/1257 [==============================] - 0s 34us/step - loss: 0.0492\n",
      "Epoch 125/200\n",
      "1257/1257 [==============================] - 0s 28us/step - loss: 0.0630\n",
      "Epoch 126/200\n",
      "1257/1257 [==============================] - 0s 32us/step - loss: 0.0500\n",
      "Epoch 127/200\n",
      "1257/1257 [==============================] - 0s 28us/step - loss: 0.0517\n",
      "Epoch 128/200\n",
      "1257/1257 [==============================] - 0s 32us/step - loss: 0.0543\n",
      "Epoch 129/200\n",
      "1257/1257 [==============================] - 0s 31us/step - loss: 0.0368\n",
      "Epoch 130/200\n",
      "1257/1257 [==============================] - 0s 32us/step - loss: 0.0462\n",
      "Epoch 131/200\n",
      "1257/1257 [==============================] - 0s 32us/step - loss: 0.0607\n",
      "Epoch 132/200\n",
      "1257/1257 [==============================] - 0s 29us/step - loss: 0.0504\n",
      "Epoch 133/200\n",
      "1257/1257 [==============================] - 0s 35us/step - loss: 0.0587\n",
      "Epoch 134/200\n",
      "1257/1257 [==============================] - 0s 32us/step - loss: 0.0563\n",
      "Epoch 135/200\n",
      "1257/1257 [==============================] - 0s 29us/step - loss: 0.0559\n",
      "Epoch 136/200\n",
      "1257/1257 [==============================] - 0s 29us/step - loss: 0.0601\n",
      "Epoch 137/200\n",
      "1257/1257 [==============================] - 0s 29us/step - loss: 0.0534\n",
      "Epoch 138/200\n",
      "1257/1257 [==============================] - 0s 29us/step - loss: 0.0479\n",
      "Epoch 139/200\n",
      "1257/1257 [==============================] - 0s 29us/step - loss: 0.0503\n",
      "Epoch 140/200\n",
      "1257/1257 [==============================] - 0s 32us/step - loss: 0.0488\n",
      "Epoch 141/200\n",
      "1257/1257 [==============================] - 0s 29us/step - loss: 0.0353\n",
      "Epoch 142/200\n",
      "1257/1257 [==============================] - 0s 31us/step - loss: 0.0472\n",
      "Epoch 143/200\n",
      "1257/1257 [==============================] - 0s 29us/step - loss: 0.0468\n",
      "Epoch 144/200\n",
      "1257/1257 [==============================] - 0s 32us/step - loss: 0.0437\n",
      "Epoch 145/200\n",
      "1257/1257 [==============================] - 0s 29us/step - loss: 0.0715\n",
      "Epoch 146/200\n",
      "1257/1257 [==============================] - 0s 29us/step - loss: 0.0520\n",
      "Epoch 147/200\n",
      "1257/1257 [==============================] - 0s 31us/step - loss: 0.0302\n",
      "Epoch 148/200\n",
      "1257/1257 [==============================] - 0s 29us/step - loss: 0.0482\n",
      "Epoch 149/200\n",
      "1257/1257 [==============================] - 0s 32us/step - loss: 0.0593\n",
      "Epoch 150/200\n",
      "1257/1257 [==============================] - 0s 29us/step - loss: 0.0476\n",
      "Epoch 151/200\n",
      "1257/1257 [==============================] - 0s 33us/step - loss: 0.0439\n",
      "Epoch 152/200\n",
      "1257/1257 [==============================] - 0s 30us/step - loss: 0.0425\n",
      "Epoch 153/200\n",
      "1257/1257 [==============================] - 0s 32us/step - loss: 0.0533\n",
      "Epoch 154/200\n",
      "1257/1257 [==============================] - 0s 32us/step - loss: 0.0469\n",
      "Epoch 155/200\n",
      "1257/1257 [==============================] - 0s 29us/step - loss: 0.0491\n",
      "Epoch 156/200\n",
      "1257/1257 [==============================] - 0s 34us/step - loss: 0.0378\n",
      "Epoch 157/200\n",
      "1257/1257 [==============================] - 0s 28us/step - loss: 0.0407\n",
      "Epoch 158/200\n",
      "1257/1257 [==============================] - 0s 32us/step - loss: 0.0541\n",
      "Epoch 159/200\n",
      "1257/1257 [==============================] - 0s 32us/step - loss: 0.0396\n",
      "Epoch 160/200\n",
      "1257/1257 [==============================] - 0s 32us/step - loss: 0.0399\n",
      "Epoch 161/200\n",
      "1257/1257 [==============================] - 0s 29us/step - loss: 0.0466\n",
      "Epoch 162/200\n",
      "1257/1257 [==============================] - 0s 32us/step - loss: 0.0436\n",
      "Epoch 163/200\n",
      "1257/1257 [==============================] - 0s 29us/step - loss: 0.0395\n",
      "Epoch 164/200\n",
      "1257/1257 [==============================] - 0s 32us/step - loss: 0.0490\n",
      "Epoch 165/200\n",
      "1257/1257 [==============================] - 0s 32us/step - loss: 0.0384\n",
      "Epoch 166/200\n",
      "1257/1257 [==============================] - 0s 32us/step - loss: 0.0393\n",
      "Epoch 167/200\n",
      "1257/1257 [==============================] - 0s 29us/step - loss: 0.0378\n",
      "Epoch 168/200\n",
      "1257/1257 [==============================] - 0s 29us/step - loss: 0.0324\n",
      "Epoch 169/200\n",
      "1257/1257 [==============================] - 0s 32us/step - loss: 0.0405\n",
      "Epoch 170/200\n",
      "1257/1257 [==============================] - 0s 29us/step - loss: 0.0359\n",
      "Epoch 171/200\n",
      "1257/1257 [==============================] - 0s 28us/step - loss: 0.0528\n",
      "Epoch 172/200\n",
      "1257/1257 [==============================] - 0s 32us/step - loss: 0.0373\n",
      "Epoch 173/200\n",
      "1257/1257 [==============================] - 0s 29us/step - loss: 0.0293\n",
      "Epoch 174/200\n",
      "1257/1257 [==============================] - 0s 32us/step - loss: 0.0376\n",
      "Epoch 175/200\n",
      "1257/1257 [==============================] - 0s 29us/step - loss: 0.0494\n",
      "Epoch 176/200\n",
      "1257/1257 [==============================] - 0s 29us/step - loss: 0.0338\n",
      "Epoch 177/200\n",
      "1257/1257 [==============================] - 0s 32us/step - loss: 0.0358\n",
      "Epoch 178/200\n",
      "1257/1257 [==============================] - 0s 36us/step - loss: 0.0454\n",
      "Epoch 179/200\n",
      "1257/1257 [==============================] - 0s 32us/step - loss: 0.0394\n",
      "Epoch 180/200\n",
      "1257/1257 [==============================] - 0s 32us/step - loss: 0.0504\n",
      "Epoch 181/200\n",
      "1257/1257 [==============================] - 0s 29us/step - loss: 0.0364\n",
      "Epoch 182/200\n",
      "1257/1257 [==============================] - 0s 35us/step - loss: 0.0325\n",
      "Epoch 183/200\n",
      "1257/1257 [==============================] - 0s 31us/step - loss: 0.0381\n",
      "Epoch 184/200\n",
      "1257/1257 [==============================] - 0s 29us/step - loss: 0.0273\n",
      "Epoch 185/200\n",
      "1257/1257 [==============================] - 0s 29us/step - loss: 0.0497\n",
      "Epoch 186/200\n",
      "1257/1257 [==============================] - 0s 32us/step - loss: 0.0317\n",
      "Epoch 187/200\n",
      "1257/1257 [==============================] - 0s 32us/step - loss: 0.0331\n",
      "Epoch 188/200\n",
      "1257/1257 [==============================] - 0s 33us/step - loss: 0.0401\n",
      "Epoch 189/200\n",
      "1257/1257 [==============================] - 0s 31us/step - loss: 0.0337\n",
      "Epoch 190/200\n"
     ]
    },
    {
     "name": "stdout",
     "output_type": "stream",
     "text": [
      "1257/1257 [==============================] - 0s 32us/step - loss: 0.0348\n",
      "Epoch 191/200\n",
      "1257/1257 [==============================] - 0s 31us/step - loss: 0.0275\n",
      "Epoch 192/200\n",
      "1257/1257 [==============================] - 0s 32us/step - loss: 0.0385\n",
      "Epoch 193/200\n",
      "1257/1257 [==============================] - 0s 32us/step - loss: 0.0404\n",
      "Epoch 194/200\n",
      "1257/1257 [==============================] - 0s 29us/step - loss: 0.0392\n",
      "Epoch 195/200\n",
      "1257/1257 [==============================] - 0s 54us/step - loss: 0.0257\n",
      "Epoch 196/200\n",
      "1257/1257 [==============================] - 0s 32us/step - loss: 0.0332\n",
      "Epoch 197/200\n",
      "1257/1257 [==============================] - 0s 41us/step - loss: 0.0329\n",
      "Epoch 198/200\n",
      "1257/1257 [==============================] - 0s 32us/step - loss: 0.0314\n",
      "Epoch 199/200\n",
      "1257/1257 [==============================] - 0s 29us/step - loss: 0.0335\n",
      "Epoch 200/200\n",
      "1257/1257 [==============================] - 0s 30us/step - loss: 0.0349\n"
     ]
    },
    {
     "data": {
      "text/plain": [
       "<keras.callbacks.callbacks.History at 0x1eeebfbf0b8>"
      ]
     },
     "execution_count": 17,
     "metadata": {},
     "output_type": "execute_result"
    }
   ],
   "source": [
    "#Model training\n",
    "model.fit(x_train, Y_train, batch_size=batch_size,nb_epoch=nb_epochs,verbose=1)\n",
    "\n",
    "# Here, we just present the starting and ending phase of epochs with loss values. If we \n",
    "# observe, loss values have been minimized from 2.6925 to 0.0611 across 200 iterations: --- (with drop out 0.5 and i used 0.4)"
   ]
  },
  {
   "cell_type": "code",
   "execution_count": 19,
   "metadata": {},
   "outputs": [
    {
     "name": "stdout",
     "output_type": "stream",
     "text": [
      "\n",
      "\n",
      "Deep Neural Network - Train accuracy:\n",
      "\n",
      "Deep Neural Network - Train Classification Report\n",
      "              precision    recall  f1-score   support\n",
      "\n",
      "           0       1.00      1.00      1.00       125\n",
      "           1       1.00      1.00      1.00       132\n",
      "           2       1.00      1.00      1.00       130\n",
      "           3       1.00      1.00      1.00       129\n",
      "           4       1.00      1.00      1.00       121\n",
      "           5       1.00      1.00      1.00       116\n",
      "           6       1.00      1.00      1.00       128\n",
      "           7       1.00      1.00      1.00       124\n",
      "           8       1.00      1.00      1.00       131\n",
      "           9       1.00      1.00      1.00       121\n",
      "\n",
      "    accuracy                           1.00      1257\n",
      "   macro avg       1.00      1.00      1.00      1257\n",
      "weighted avg       1.00      1.00      1.00      1257\n",
      "\n",
      "\n",
      "Deep Neural Network - Train Confusion Matrix\n",
      "\n",
      "Predicted    0    1    2    3    4    5    6    7    8    9\n",
      "Actuall                                                    \n",
      "0          125    0    0    0    0    0    0    0    0    0\n",
      "1            0  132    0    0    0    0    0    0    0    0\n",
      "2            0    0  130    0    0    0    0    0    0    0\n",
      "3            0    0    0  129    0    0    0    0    0    0\n",
      "4            0    0    0    0  121    0    0    0    0    0\n",
      "5            0    0    0    0    0  116    0    0    0    0\n",
      "6            0    0    0    0    0    0  128    0    0    0\n",
      "7            0    0    0    0    0    0    0  124    0    0\n",
      "8            0    0    0    0    0    0    0    0  131    0\n",
      "9            0    0    0    0    0    0    0    0    0  121\n"
     ]
    }
   ],
   "source": [
    "#Model Prediction\n",
    "\n",
    "y_train_predclass = model.predict_classes(x_train,batch_size=batch_size)\n",
    "y_test_predclass = model.predict_classes(x_test,batch_size=batch_size)\n",
    "print (\"\\n\\nDeep Neural Network - Train accuracy:\"),(round(accuracy_score(y_train,y_train_predclass),3))\n",
    "print (\"\\nDeep Neural Network - Train Classification Report\")\n",
    "print (classification_report (y_train,y_train_predclass))\n",
    "print (\"\\nDeep Neural Network - Train Confusion Matrix\\n\")\n",
    "print (pd.crosstab(y_train,y_train_predclass,rownames =[\"Actuall\"],colnames = [\"Predicted\"]) )"
   ]
  },
  {
   "cell_type": "code",
   "execution_count": 20,
   "metadata": {},
   "outputs": [
    {
     "name": "stdout",
     "output_type": "stream",
     "text": [
      "\n",
      "Deep Neural Network - Testaccuracy:\n",
      "\n",
      "Deep Neural Network - Test Classification Report\n",
      "              precision    recall  f1-score   support\n",
      "\n",
      "           0       1.00      1.00      1.00        53\n",
      "           1       0.98      0.98      0.98        50\n",
      "           2       0.94      1.00      0.97        47\n",
      "           3       1.00      0.94      0.97        54\n",
      "           4       0.97      1.00      0.98        60\n",
      "           5       0.96      0.97      0.96        66\n",
      "           6       0.98      0.98      0.98        53\n",
      "           7       1.00      0.98      0.99        55\n",
      "           8       0.98      0.95      0.96        43\n",
      "           9       1.00      0.98      0.99        59\n",
      "\n",
      "    accuracy                           0.98       540\n",
      "   macro avg       0.98      0.98      0.98       540\n",
      "weighted avg       0.98      0.98      0.98       540\n",
      "\n",
      "\n",
      "Deep Neural Network - Test Confusion Matrix\n",
      "\n",
      "Predicted   0   1   2   3   4   5   6   7   8   9\n",
      "Actuall                                          \n",
      "0          53   0   0   0   0   0   0   0   0   0\n",
      "1           0  49   1   0   0   0   0   0   0   0\n",
      "2           0   0  47   0   0   0   0   0   0   0\n",
      "3           0   0   2  51   0   1   0   0   0   0\n",
      "4           0   0   0   0  60   0   0   0   0   0\n",
      "5           0   0   0   0   1  64   1   0   0   0\n",
      "6           0   0   0   0   1   0  52   0   0   0\n",
      "7           0   0   0   0   0   1   0  54   0   0\n",
      "8           0   1   0   0   0   1   0   0  41   0\n",
      "9           0   0   0   0   0   0   0   0   1  58\n"
     ]
    }
   ],
   "source": [
    "print (\"\\nDeep Neural Network - Testaccuracy:\"),(round(accuracy_score(y_test, y_test_predclass),3))\n",
    "print (\"\\nDeep Neural Network - Test Classification Report\")\n",
    "print (classification_report(y_test,y_test_predclass))\n",
    "print (\"\\nDeep Neural Network - Test Confusion Matrix\\n\")\n",
    "print (pd.crosstab(y_test,y_test_predclass,rownames = [\"Actuall\"],colnames = [\"Predicted\"]) )"
   ]
  },
  {
   "cell_type": "markdown",
   "metadata": {},
   "source": [
    "However, the true evaluation is performed on the test data instead. Here, we have got 97.6\n",
    "percentage accuracy, which is similar to the scikit-learn accuracy of 97.78 percentage.\n",
    "Hence, it has been proved that we have successfully replicated the results in the deep\n",
    "learning software; however, in Keras, we can do much better things than in scikit-learn\n",
    "(such as convolutional neural networks, recurrent neural networks, auto encoders, and so\n",
    "on, which are very advanced in nature)."
   ]
  },
  {
   "cell_type": "code",
   "execution_count": null,
   "metadata": {},
   "outputs": [],
   "source": []
  },
  {
   "cell_type": "code",
   "execution_count": null,
   "metadata": {},
   "outputs": [],
   "source": []
  },
  {
   "cell_type": "code",
   "execution_count": null,
   "metadata": {},
   "outputs": [],
   "source": []
  },
  {
   "cell_type": "code",
   "execution_count": null,
   "metadata": {},
   "outputs": [],
   "source": []
  },
  {
   "cell_type": "code",
   "execution_count": null,
   "metadata": {},
   "outputs": [],
   "source": []
  },
  {
   "cell_type": "code",
   "execution_count": null,
   "metadata": {},
   "outputs": [],
   "source": []
  },
  {
   "cell_type": "code",
   "execution_count": null,
   "metadata": {},
   "outputs": [],
   "source": []
  },
  {
   "cell_type": "code",
   "execution_count": null,
   "metadata": {},
   "outputs": [],
   "source": []
  },
  {
   "cell_type": "code",
   "execution_count": null,
   "metadata": {},
   "outputs": [],
   "source": []
  },
  {
   "cell_type": "code",
   "execution_count": null,
   "metadata": {},
   "outputs": [],
   "source": []
  },
  {
   "cell_type": "code",
   "execution_count": null,
   "metadata": {},
   "outputs": [],
   "source": []
  },
  {
   "cell_type": "code",
   "execution_count": null,
   "metadata": {},
   "outputs": [],
   "source": []
  },
  {
   "cell_type": "code",
   "execution_count": null,
   "metadata": {},
   "outputs": [],
   "source": []
  },
  {
   "cell_type": "code",
   "execution_count": null,
   "metadata": {},
   "outputs": [],
   "source": []
  },
  {
   "cell_type": "code",
   "execution_count": null,
   "metadata": {},
   "outputs": [],
   "source": []
  },
  {
   "cell_type": "code",
   "execution_count": null,
   "metadata": {},
   "outputs": [],
   "source": []
  },
  {
   "cell_type": "code",
   "execution_count": null,
   "metadata": {},
   "outputs": [],
   "source": []
  },
  {
   "cell_type": "code",
   "execution_count": null,
   "metadata": {},
   "outputs": [],
   "source": []
  },
  {
   "cell_type": "code",
   "execution_count": null,
   "metadata": {},
   "outputs": [],
   "source": []
  },
  {
   "cell_type": "code",
   "execution_count": null,
   "metadata": {},
   "outputs": [],
   "source": []
  },
  {
   "cell_type": "code",
   "execution_count": null,
   "metadata": {},
   "outputs": [],
   "source": []
  },
  {
   "cell_type": "code",
   "execution_count": null,
   "metadata": {},
   "outputs": [],
   "source": []
  },
  {
   "cell_type": "code",
   "execution_count": null,
   "metadata": {},
   "outputs": [],
   "source": []
  },
  {
   "cell_type": "code",
   "execution_count": null,
   "metadata": {},
   "outputs": [],
   "source": []
  },
  {
   "cell_type": "code",
   "execution_count": null,
   "metadata": {},
   "outputs": [],
   "source": []
  },
  {
   "cell_type": "code",
   "execution_count": null,
   "metadata": {},
   "outputs": [],
   "source": []
  },
  {
   "cell_type": "code",
   "execution_count": null,
   "metadata": {},
   "outputs": [],
   "source": []
  },
  {
   "cell_type": "code",
   "execution_count": null,
   "metadata": {},
   "outputs": [],
   "source": []
  },
  {
   "cell_type": "code",
   "execution_count": null,
   "metadata": {},
   "outputs": [],
   "source": []
  },
  {
   "cell_type": "code",
   "execution_count": null,
   "metadata": {},
   "outputs": [],
   "source": []
  },
  {
   "cell_type": "code",
   "execution_count": null,
   "metadata": {},
   "outputs": [],
   "source": []
  },
  {
   "cell_type": "code",
   "execution_count": null,
   "metadata": {},
   "outputs": [],
   "source": []
  },
  {
   "cell_type": "code",
   "execution_count": null,
   "metadata": {},
   "outputs": [],
   "source": []
  },
  {
   "cell_type": "code",
   "execution_count": null,
   "metadata": {},
   "outputs": [],
   "source": []
  },
  {
   "cell_type": "code",
   "execution_count": null,
   "metadata": {},
   "outputs": [],
   "source": []
  },
  {
   "cell_type": "code",
   "execution_count": null,
   "metadata": {},
   "outputs": [],
   "source": []
  },
  {
   "cell_type": "code",
   "execution_count": null,
   "metadata": {},
   "outputs": [],
   "source": []
  },
  {
   "cell_type": "code",
   "execution_count": null,
   "metadata": {},
   "outputs": [],
   "source": []
  },
  {
   "cell_type": "code",
   "execution_count": null,
   "metadata": {},
   "outputs": [],
   "source": []
  },
  {
   "cell_type": "code",
   "execution_count": null,
   "metadata": {},
   "outputs": [],
   "source": []
  },
  {
   "cell_type": "code",
   "execution_count": null,
   "metadata": {},
   "outputs": [],
   "source": []
  },
  {
   "cell_type": "code",
   "execution_count": null,
   "metadata": {},
   "outputs": [],
   "source": []
  },
  {
   "cell_type": "code",
   "execution_count": null,
   "metadata": {},
   "outputs": [],
   "source": []
  },
  {
   "cell_type": "code",
   "execution_count": null,
   "metadata": {},
   "outputs": [],
   "source": []
  },
  {
   "cell_type": "code",
   "execution_count": null,
   "metadata": {},
   "outputs": [],
   "source": []
  },
  {
   "cell_type": "code",
   "execution_count": null,
   "metadata": {},
   "outputs": [],
   "source": []
  },
  {
   "cell_type": "code",
   "execution_count": null,
   "metadata": {},
   "outputs": [],
   "source": []
  },
  {
   "cell_type": "code",
   "execution_count": null,
   "metadata": {},
   "outputs": [],
   "source": []
  },
  {
   "cell_type": "code",
   "execution_count": null,
   "metadata": {},
   "outputs": [],
   "source": []
  }
 ],
 "metadata": {
  "kernelspec": {
   "display_name": "Python 3",
   "language": "python",
   "name": "python3"
  },
  "language_info": {
   "codemirror_mode": {
    "name": "ipython",
    "version": 3
   },
   "file_extension": ".py",
   "mimetype": "text/x-python",
   "name": "python",
   "nbconvert_exporter": "python",
   "pygments_lexer": "ipython3",
   "version": "3.7.3"
  }
 },
 "nbformat": 4,
 "nbformat_minor": 2
}
